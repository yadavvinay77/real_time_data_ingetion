{
 "cells": [
  {
   "cell_type": "markdown",
   "id": "b6f68fa3",
   "metadata": {},
   "source": [
    " Terminal 1: Start Zookeeper"
   ]
  },
  {
   "cell_type": "code",
   "execution_count": null,
   "id": "13104079",
   "metadata": {},
   "outputs": [],
   "source": [
    "cd C:\\kafka\n",
    ".\\bin\\windows\\zookeeper-server-start.bat .\\config\\zookeeper.properties\n"
   ]
  },
  {
   "cell_type": "markdown",
   "id": "b3336c6d",
   "metadata": {},
   "source": [
    " Terminal 2: Start Kafka Broker"
   ]
  },
  {
   "cell_type": "code",
   "execution_count": null,
   "id": "29aea76d",
   "metadata": {},
   "outputs": [],
   "source": [
    "cd C:\\kafka\n",
    ".\\bin\\windows\\kafka-server-start.bat .\\config\\server.properties\n"
   ]
  },
  {
   "cell_type": "markdown",
   "id": "91a21337",
   "metadata": {},
   "source": [
    " Terminal 3: Create Topic"
   ]
  },
  {
   "cell_type": "code",
   "execution_count": null,
   "id": "dae01265",
   "metadata": {},
   "outputs": [],
   "source": [
    "cd C:\\kafka\n",
    ".\\bin\\windows\\kafka-topics.bat --create --topic market-data-topic --bootstrap-server localhost:9092 --partitions 1 --replication-factor 1\n"
   ]
  },
  {
   "cell_type": "markdown",
   "id": "1fe78439",
   "metadata": {},
   "source": [
    "Final Step: Run Your MT5 to Kafka Python Script Again\n"
   ]
  },
  {
   "cell_type": "code",
   "execution_count": null,
   "id": "96d7486c",
   "metadata": {},
   "outputs": [],
   "source": [
    "producer = KafkaProducer(\n",
    "    bootstrap_servers='localhost:9093',\n",
    "    value_serializer=lambda v: json.dumps(v).encode('utf-8')\n",
    ")\n"
   ]
  },
  {
   "cell_type": "markdown",
   "id": "571197ef",
   "metadata": {},
   "source": [
    "Python script that connects to MT5, fetches live tick data, and sends it to Kafka (topic: market-data-topic) using kafka-python.\n",
    "\n",
    "✅ ✅ ✅"
   ]
  },
  {
   "cell_type": "code",
   "execution_count": null,
   "id": "425af859",
   "metadata": {},
   "outputs": [
    {
     "ename": "NoBrokersAvailable",
     "evalue": "NoBrokersAvailable",
     "output_type": "error",
     "traceback": [
      "\u001b[1;31m---------------------------------------------------------------------------\u001b[0m",
      "\u001b[1;31mNoBrokersAvailable\u001b[0m                        Traceback (most recent call last)",
      "Cell \u001b[1;32mIn[4], line 38\u001b[0m\n\u001b[0;32m     34\u001b[0m             \u001b[38;5;28;01mreturn\u001b[39;00m \u001b[38;5;28mstr\u001b[39m(o)\n\u001b[0;32m     36\u001b[0m     \u001b[38;5;28;01mreturn\u001b[39;00m json\u001b[38;5;241m.\u001b[39mdumps(v, default\u001b[38;5;241m=\u001b[39mconvert)\u001b[38;5;241m.\u001b[39mencode(\u001b[38;5;124m\"\u001b[39m\u001b[38;5;124mutf-8\u001b[39m\u001b[38;5;124m\"\u001b[39m)\n\u001b[1;32m---> 38\u001b[0m producer \u001b[38;5;241m=\u001b[39m \u001b[43mKafkaProducer\u001b[49m\u001b[43m(\u001b[49m\n\u001b[0;32m     39\u001b[0m \u001b[43m    \u001b[49m\u001b[43mbootstrap_servers\u001b[49m\u001b[38;5;241;43m=\u001b[39;49m\u001b[38;5;124;43m'\u001b[39;49m\u001b[38;5;124;43mlocalhost:9092\u001b[39;49m\u001b[38;5;124;43m'\u001b[39;49m\u001b[43m,\u001b[49m\n\u001b[0;32m     40\u001b[0m \u001b[43m    \u001b[49m\u001b[43mvalue_serializer\u001b[49m\u001b[38;5;241;43m=\u001b[39;49m\u001b[43mjson_serializer\u001b[49m\n\u001b[0;32m     41\u001b[0m \u001b[43m)\u001b[49m\n\u001b[0;32m     43\u001b[0m \u001b[38;5;66;03m# Get real-time tick data and push to Kafka\u001b[39;00m\n\u001b[0;32m     44\u001b[0m \u001b[38;5;28;01mdef\u001b[39;00m \u001b[38;5;21mstream_mt5_to_kafka\u001b[39m(symbol\u001b[38;5;241m=\u001b[39m\u001b[38;5;124m\"\u001b[39m\u001b[38;5;124mEURUSD\u001b[39m\u001b[38;5;124m\"\u001b[39m, topic\u001b[38;5;241m=\u001b[39m\u001b[38;5;124m\"\u001b[39m\u001b[38;5;124mmarket-data-topic\u001b[39m\u001b[38;5;124m\"\u001b[39m):\n",
      "File \u001b[1;32mc:\\Users\\VinayYadav\\AppData\\Local\\Programs\\Python\\Python312\\Lib\\site-packages\\kafka\\producer\\kafka.py:481\u001b[0m, in \u001b[0;36mKafkaProducer.__init__\u001b[1;34m(self, **configs)\u001b[0m\n\u001b[0;32m    478\u001b[0m \u001b[38;5;28;01melse\u001b[39;00m:\n\u001b[0;32m    479\u001b[0m     \u001b[38;5;28mself\u001b[39m\u001b[38;5;241m.\u001b[39m_metrics \u001b[38;5;241m=\u001b[39m \u001b[38;5;28;01mNone\u001b[39;00m\n\u001b[1;32m--> 481\u001b[0m client \u001b[38;5;241m=\u001b[39m \u001b[38;5;28;43mself\u001b[39;49m\u001b[38;5;241;43m.\u001b[39;49m\u001b[43mconfig\u001b[49m\u001b[43m[\u001b[49m\u001b[38;5;124;43m'\u001b[39;49m\u001b[38;5;124;43mkafka_client\u001b[39;49m\u001b[38;5;124;43m'\u001b[39;49m\u001b[43m]\u001b[49m\u001b[43m(\u001b[49m\n\u001b[0;32m    482\u001b[0m \u001b[43m    \u001b[49m\u001b[43mmetrics\u001b[49m\u001b[38;5;241;43m=\u001b[39;49m\u001b[38;5;28;43mself\u001b[39;49m\u001b[38;5;241;43m.\u001b[39;49m\u001b[43m_metrics\u001b[49m\u001b[43m,\u001b[49m\u001b[43m \u001b[49m\u001b[43mmetric_group_prefix\u001b[49m\u001b[38;5;241;43m=\u001b[39;49m\u001b[38;5;124;43m'\u001b[39;49m\u001b[38;5;124;43mproducer\u001b[39;49m\u001b[38;5;124;43m'\u001b[39;49m\u001b[43m,\u001b[49m\n\u001b[0;32m    483\u001b[0m \u001b[43m    \u001b[49m\u001b[43mwakeup_timeout_ms\u001b[49m\u001b[38;5;241;43m=\u001b[39;49m\u001b[38;5;28;43mself\u001b[39;49m\u001b[38;5;241;43m.\u001b[39;49m\u001b[43mconfig\u001b[49m\u001b[43m[\u001b[49m\u001b[38;5;124;43m'\u001b[39;49m\u001b[38;5;124;43mmax_block_ms\u001b[39;49m\u001b[38;5;124;43m'\u001b[39;49m\u001b[43m]\u001b[49m\u001b[43m,\u001b[49m\n\u001b[0;32m    484\u001b[0m \u001b[43m    \u001b[49m\u001b[38;5;241;43m*\u001b[39;49m\u001b[38;5;241;43m*\u001b[39;49m\u001b[38;5;28;43mself\u001b[39;49m\u001b[38;5;241;43m.\u001b[39;49m\u001b[43mconfig\u001b[49m\u001b[43m)\u001b[49m\n\u001b[0;32m    486\u001b[0m \u001b[38;5;66;03m# Get auto-discovered / normalized version from client\u001b[39;00m\n\u001b[0;32m    487\u001b[0m \u001b[38;5;28mself\u001b[39m\u001b[38;5;241m.\u001b[39mconfig[\u001b[38;5;124m'\u001b[39m\u001b[38;5;124mapi_version\u001b[39m\u001b[38;5;124m'\u001b[39m] \u001b[38;5;241m=\u001b[39m client\u001b[38;5;241m.\u001b[39mconfig[\u001b[38;5;124m'\u001b[39m\u001b[38;5;124mapi_version\u001b[39m\u001b[38;5;124m'\u001b[39m]\n",
      "File \u001b[1;32mc:\\Users\\VinayYadav\\AppData\\Local\\Programs\\Python\\Python312\\Lib\\site-packages\\kafka\\client_async.py:262\u001b[0m, in \u001b[0;36mKafkaClient.__init__\u001b[1;34m(self, **configs)\u001b[0m\n\u001b[0;32m    260\u001b[0m \u001b[38;5;66;03m# Check Broker Version if not set explicitly\u001b[39;00m\n\u001b[0;32m    261\u001b[0m \u001b[38;5;28;01mif\u001b[39;00m \u001b[38;5;28mself\u001b[39m\u001b[38;5;241m.\u001b[39mconfig[\u001b[38;5;124m'\u001b[39m\u001b[38;5;124mapi_version\u001b[39m\u001b[38;5;124m'\u001b[39m] \u001b[38;5;129;01mis\u001b[39;00m \u001b[38;5;28;01mNone\u001b[39;00m:\n\u001b[1;32m--> 262\u001b[0m     \u001b[38;5;28mself\u001b[39m\u001b[38;5;241m.\u001b[39mconfig[\u001b[38;5;124m'\u001b[39m\u001b[38;5;124mapi_version\u001b[39m\u001b[38;5;124m'\u001b[39m] \u001b[38;5;241m=\u001b[39m \u001b[38;5;28;43mself\u001b[39;49m\u001b[38;5;241;43m.\u001b[39;49m\u001b[43mcheck_version\u001b[49m\u001b[43m(\u001b[49m\u001b[43m)\u001b[49m\n\u001b[0;32m    263\u001b[0m \u001b[38;5;28;01melif\u001b[39;00m \u001b[38;5;28mself\u001b[39m\u001b[38;5;241m.\u001b[39mconfig[\u001b[38;5;124m'\u001b[39m\u001b[38;5;124mapi_version\u001b[39m\u001b[38;5;124m'\u001b[39m] \u001b[38;5;129;01min\u001b[39;00m BROKER_API_VERSIONS:\n\u001b[0;32m    264\u001b[0m     \u001b[38;5;28mself\u001b[39m\u001b[38;5;241m.\u001b[39m_api_versions \u001b[38;5;241m=\u001b[39m BROKER_API_VERSIONS[\u001b[38;5;28mself\u001b[39m\u001b[38;5;241m.\u001b[39mconfig[\u001b[38;5;124m'\u001b[39m\u001b[38;5;124mapi_version\u001b[39m\u001b[38;5;124m'\u001b[39m]]\n",
      "File \u001b[1;32mc:\\Users\\VinayYadav\\AppData\\Local\\Programs\\Python\\Python312\\Lib\\site-packages\\kafka\\client_async.py:1074\u001b[0m, in \u001b[0;36mKafkaClient.check_version\u001b[1;34m(self, node_id, timeout, **kwargs)\u001b[0m\n\u001b[0;32m   1072\u001b[0m     \u001b[38;5;28;01mraise\u001b[39;00m Errors\u001b[38;5;241m.\u001b[39mNodeNotReadyError(node_id)\n\u001b[0;32m   1073\u001b[0m \u001b[38;5;28;01melse\u001b[39;00m:\n\u001b[1;32m-> 1074\u001b[0m     \u001b[38;5;28;01mraise\u001b[39;00m Errors\u001b[38;5;241m.\u001b[39mNoBrokersAvailable()\n",
      "\u001b[1;31mNoBrokersAvailable\u001b[0m: NoBrokersAvailable"
     ]
    }
   ],
   "source": [
    "import MetaTrader5 as mt5\n",
    "from kafka import KafkaProducer\n",
    "import json\n",
    "import time\n",
    "from datetime import datetime\n",
    "\n",
    "# Initialize MT5 connection\n",
    "def connect_to_mt5():\n",
    "    account = *****\n",
    "    password = \"****\"\n",
    "    server = \"*****\"\n",
    "\n",
    "    if not mt5.initialize():\n",
    "        print(\"❌ MT5 initialization failed\")\n",
    "        quit()\n",
    "\n",
    "    if not mt5.login(account, password=password, server=server):\n",
    "        print(\"❌ MT5 login failed:\", mt5.last_error())\n",
    "        mt5.shutdown()\n",
    "        quit()\n",
    "\n",
    "    print(\"✅ Connected to MT5\")\n",
    "\n",
    "# Kafka Producer with safe serializer\n",
    "def json_serializer(v):\n",
    "    def convert(o):\n",
    "        if isinstance(o, (int, float, str, bool)):\n",
    "            return o\n",
    "        elif isinstance(o, (datetime,)):\n",
    "            return o.isoformat()\n",
    "        elif hasattr(o, \"item\"):  # For NumPy types like np.uint64, np.float32\n",
    "            return o.item()\n",
    "        else:\n",
    "            return str(o)\n",
    "\n",
    "    return json.dumps(v, default=convert).encode(\"utf-8\")\n",
    "\n",
    "producer = KafkaProducer(\n",
    "    bootstrap_servers='localhost:9092',\n",
    "    value_serializer=json_serializer\n",
    ")\n",
    "\n",
    "# Get real-time tick data and push to Kafka\n",
    "def stream_mt5_to_kafka(symbol=\"EURUSD\", topic=\"market-data-topic\"):\n",
    "    connect_to_mt5()\n",
    "\n",
    "    print(f\"📡 Streaming real-time data for {symbol} → Kafka topic: '{topic}'\")\n",
    "\n",
    "    while True:\n",
    "        ticks = mt5.copy_ticks_from(symbol, datetime.now(), 1, mt5.COPY_TICKS_ALL)\n",
    "        for tick in ticks:\n",
    "            data = {\n",
    "                \"timestamp\": datetime.fromtimestamp(tick['time']).isoformat(),\n",
    "                \"instrument\": symbol,\n",
    "                \"price\": float(tick['ask']),\n",
    "                \"volume\": float(tick['volume'])\n",
    "            }\n",
    "            print(\"📤 Sending:\", data)\n",
    "            producer.send(topic, value=data)\n",
    "\n",
    "        time.sleep(1)\n",
    "\n",
    "if __name__ == \"__main__\":\n",
    "    try:\n",
    "        stream_mt5_to_kafka(symbol=\"EURUSD\", topic=\"market-data-topic\")\n",
    "    except KeyboardInterrupt:\n",
    "        print(\"\\n⛔ Interrupted by user\")\n",
    "    finally:\n",
    "        mt5.shutdown()\n",
    "        print(\"🛑 MT5 connection closed\")\n"
   ]
  }
 ],
 "metadata": {
  "kernelspec": {
   "display_name": "Python 3",
   "language": "python",
   "name": "python3"
  },
  "language_info": {
   "codemirror_mode": {
    "name": "ipython",
    "version": 3
   },
   "file_extension": ".py",
   "mimetype": "text/x-python",
   "name": "python",
   "nbconvert_exporter": "python",
   "pygments_lexer": "ipython3",
   "version": "3.12.2"
  }
 },
 "nbformat": 4,
 "nbformat_minor": 5
}
